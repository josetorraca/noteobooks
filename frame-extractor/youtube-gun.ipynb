{
 "cells": [
  {
   "cell_type": "code",
   "execution_count": 2,
   "metadata": {},
   "outputs": [],
   "source": [
    "import argparse\n",
    "import youtube_dl\n",
    "import ffmpy\n",
    "import os\n",
    "import numpy as np"
   ]
  },
  {
   "cell_type": "code",
   "execution_count": 3,
   "metadata": {
    "collapsed": true
   },
   "outputs": [],
   "source": [
    "# extract frames form url at given time and saves it into output_file\n",
    "def save_frame(url, time, output_file):\n",
    "    ff = ffmpy.FFmpeg(\n",
    "        inputs={url: '-ss ' + str(time) + ' -t 1'},\n",
    "        outputs={output_file: '-f mjpeg'})\n",
    "    ff.run()"
   ]
  },
  {
   "cell_type": "code",
   "execution_count": 11,
   "metadata": {
    "collapsed": true
   },
   "outputs": [],
   "source": [
    "# search youtube with youtube-dl and extracts frames from each search results respects to its parameters\n",
    "def search_and_extract(query, name, video_per_query, frames_per_video):\n",
    "    print('Processing links for: {}'.format(name))\n",
    "    ydl = youtube_dl.YoutubeDL({'outtmpl': '%(id)s%(ext)s'})\n",
    "    with ydl:\n",
    "        search_results = ydl.extract_info('ytsearch' + str(video_per_query) + ':' + str(query), download=False)\n",
    "\n",
    "    if not os.path.exists(name):\n",
    "        os.makedirs(name)\n",
    "\n",
    "    for idx, sresult in enumerate(search_results['entries']):\n",
    "        video_link = sresult['formats'][-1]['url']\n",
    "        duration = sresult['duration']\n",
    "        \n",
    "        times = np.random.choice(duration - 1, frames_per_video, replace=False)\n",
    "        for t in times:\n",
    "            file_name = os.path.join(name, name + '-' + str(idx) + '-frame-' + str(t) + '.jpg')\n",
    "            save_frame(video_link, t, file_name)"
   ]
  },
  {
   "cell_type": "code",
   "execution_count": 12,
   "metadata": {},
   "outputs": [
    {
     "name": "stdout",
     "output_type": "stream",
     "text": [
      "Processing links for: gta\n",
      "[youtube:search] query \"gta v\": Downloading page 1\n",
      "[download] Downloading playlist: gta v\n",
      "[youtube:search] playlist gta v: Collected 2 video ids (downloading 2 of them)\n",
      "[download] Downloading video 1 of 2\n",
      "[youtube] hLhZPLSq1Y4: Downloading webpage\n",
      "[youtube] hLhZPLSq1Y4: Downloading video info webpage\n",
      "[youtube] hLhZPLSq1Y4: Extracting video information\n",
      "[youtube] hLhZPLSq1Y4: Downloading MPD manifest\n",
      "[download] Downloading video 2 of 2\n",
      "[youtube] 3dfNt6e8-38: Downloading webpage\n",
      "[youtube] 3dfNt6e8-38: Downloading video info webpage\n",
      "[youtube] 3dfNt6e8-38: Extracting video information\n",
      "[youtube] 3dfNt6e8-38: Downloading MPD manifest\n",
      "[download] Finished downloading playlist: gta v\n"
     ]
    }
   ],
   "source": [
    "search_and_extract('gta v', 'gta', 2, 3)"
   ]
  },
  {
   "cell_type": "code",
   "execution_count": 11,
   "metadata": {},
   "outputs": [
    {
     "data": {
      "text/plain": [
       "array([86, 56,  8])"
      ]
     },
     "execution_count": 11,
     "metadata": {},
     "output_type": "execute_result"
    }
   ],
   "source": []
  },
  {
   "cell_type": "code",
   "execution_count": null,
   "metadata": {
    "collapsed": true
   },
   "outputs": [],
   "source": []
  }
 ],
 "metadata": {
  "kernelspec": {
   "display_name": "Python 3",
   "language": "python",
   "name": "python3"
  },
  "language_info": {
   "codemirror_mode": {
    "name": "ipython",
    "version": 3
   },
   "file_extension": ".py",
   "mimetype": "text/x-python",
   "name": "python",
   "nbconvert_exporter": "python",
   "pygments_lexer": "ipython3",
   "version": "3.6.1"
  }
 },
 "nbformat": 4,
 "nbformat_minor": 2
}
