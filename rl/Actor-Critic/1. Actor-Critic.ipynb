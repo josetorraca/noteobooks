{
 "cells": [
  {
   "cell_type": "markdown",
   "metadata": {},
   "source": [
    "# Vanilla **Actor-Critic**\n",
    "\n",
    "My notes on Actor-Critic Algorithm. \n",
    "\n",
    "## Symbol Lookup Table\n",
    "\n",
    "\n",
    "| Symbol             \t| Definition                                                                                   \t|\n",
    "|--------------------\t|----------------------------------------------------------------------------------------------\t|\n",
    "| $s \\in S$          \t| $s$ denotes a state.                                                                         \t|\n",
    "| $a \\in A$          \t| $a$ denotes an action.                                                                       \t|\n",
    "| $r \\in R$          \t| $r$ denotes a reward.                                                                        \t|\n",
    "| $ \\pi(a \\vert s) $ \t| Policy function, returns probability of choosing action $a$ in state $s$.                    \t|\n",
    "| $V(s)$             \t| State-Value function, Measures how good a state is. (in terms of expected reward).           \t|\n",
    "| $V^\\pi (s)$        \t| State-Value function, When we are using policy $\\pi$.                                        \t|\n",
    "| $Q^\\pi$            \t| Action-value function, Measures how good an action is.                                       \t|\n",
    "| $Q^\\pi (s, a)$     \t| Action-value function, How good is to take action $a$ in state $s$ when we use policy $\\pi$. \t|\n",
    "| $\\gamma$           \t| Discount factor.                                                                             \t|\n",
    "| $G_t$              \t| Total return value.                                                                          \t|\n",
    "| $Q^\\pi$            \t| Action-value function.                                                                       \t|\n",
    "| $V^\\pi$            \t| State-value function.                                                                        \t|\n",
    "\n",
    "\n",
    "## Definition\n",
    "In traditional policy gradient method, we have one neural network for our policy and after earch episode, we update its parameters $\\theta$. The main idea behind **Actor-Critic** method is, why not using *Value-Function* for our policy updates? It's been said that Value-Function can be helpful by reducing the variance of policy gradient (or variance of gradient of policy)! 🤷\n",
    "\n",
    "### Batch Mode\n",
    "\n",
    "In batch mode you gather lots of data by interacting with the environment and sampling from policy $\\pi$, and then updating your parameters using all information you gathered.\n",
    "\n",
    "1. Sample a set of ${s_i, a_i}$ from policy $\\pi_\\theta(a \\vert s)$.\n",
    "1. Fit $\\hat{V}_\\theta^\\pi(s)$ (neural network) to sampled rewad sums.\n",
    "  1. Supervised regression with loss: $ \\mathcal{L} (\\theta) = \\frac{1}{2} \\sum_{t} \\vert \\vert \\hat{V}_\\theta^\\pi(s_t) - [ r(s_{t}, a_{t} ) +  \\hat{V}_\\theta^\\pi(s_{t+1}) ]  \\vert \\vert ^2 $.\n",
    "1. Evaluate $ \\hat{A}^\\pi (s_t, a_t) = r(s_t, a_t) + \\gamma \\hat{V}_\\theta^\\pi(s'_t) - \\hat{V}_\\theta^\\pi(s_t)$.\n",
    "1. Calculate gradient $ \\nabla_\\theta J (\\theta) \\approx \\sum_{i} \\nabla_\\theta log \\pi_\\theta (a_t \\vert s_t) \\hat{A}^\\pi (s_i, a_i)$.\n",
    "1. Update parameteres $\\theta \\leftarrow \\theta + \\alpha \\nabla_\\theta J(\\theta)$.\n",
    "\n",
    "### Online Mode\n",
    "\n",
    "In online mode, you run your policy and after each interaction with the environment, you update your parameters. In practice we don't use this mode, because we are using neural networks and SGD. If you manage yo parallelize simulation, you can use this method.\n",
    "\n",
    "\n",
    "1. Sample an action, reward and next state; $a \\sim \\pi_\\theta(a \\vert s)$, get $(s,a,s',r)$\n",
    "1. Update $\\hat{V}_\\theta^\\pi(s)$ using target $r+ \\gamma \\hat{V}_\\theta^\\pi(s')$\n",
    "1. Evaluate $ \\hat{A}^\\pi (s, a) = r(s, a) + \\gamma \\hat{V}_\\theta^\\pi(s') - \\hat{V}_\\theta^\\pi(s)$.\n",
    "1. Calculate gradient $ \\nabla_\\theta J (\\theta) \\approx  \\nabla_\\theta log \\pi_\\theta (a \\vert s) \\hat{A}^\\pi (s, a)$.\n",
    "1. Update parameteres $\\theta \\leftarrow \\theta + \\alpha \\nabla_\\theta J(\\theta)$.\n",
    "\n",
    "\n",
    "### Another formulation\n",
    "\n",
    "If you don't understand the above formulation, here is another one for you:\n",
    "\n",
    "1. Initialize network parameters at random; $w, \\theta$. Start from state $s$.\n",
    "1. for $t=1 ... T$:\n",
    "  1. Sample the following:\n",
    "    1. Sample action; $a \\sim \\pi_\\theta(a \\vert s) $\n",
    "    1. Sample reward; $r_t \\sim R(s, a)$\n",
    "    1. Sample next state; $s' \\sim P(s' \\vert s,a)$\n",
    "    1. Sample next action; $a' \\sim \\pi_\\theta (a' \\vert s')$\n",
    "  1. Update policy parameters $\\theta$ using following:\n",
    "    1. $\\theta \\leftarrow \\theta + \\alpha_\\theta Q_w(s,a) \\nabla_\\theta \\pi_\\theta(a \\vert s)$\n",
    "  1. Update action-value function parameters $w$ using following:\n",
    "    1. Compute TD error for action-value at time $t$.\n",
    "    1. $\\delta_t = r_t + \\gamma Q_w(s', a') - Q_w(s, a) $\n",
    "    1. $w \\leftarrow w + \\alpha_w \\delta_t \\nabla_w Q_w(s, a)$\n",
    "  1. Update $a \\leftarrow a' $ and $ s \\leftarrow s'$.\n",
    "\n",
    "\n",
    "In this algorithm we have two separate learning rates, $\\alpha_\\theta$ and $\\alpha_w$    \n",
    "\n",
    "\n",
    "### Architecture Design\n",
    "\n",
    "In implementing Actor-Critic algorithm, there are two major network designs. The first one is use two separate networks, one for fitting value-function and the other for policy (left). This design is very simple and easy to implement. In some cases your ``state`` contains pixels of the simulation and by having two separate networks, your two network must learn similar features and proeprties, by their own. We can avoid this by using one neural network with two heads (right).\n",
    "\n",
    "<center>\n",
    "  <img src=\"./actor-critic-architecture.png\" />\n",
    "</center>  \n",
    "\n",
    "## Sources\n",
    "\n",
    "This is just re-hash of what's already out there, nothing new per se.\n",
    "\n",
    "1. [CS294 112 Deep RL - Lecture 5 by Sergey Levin - Slides](http://rail.eecs.berkeley.edu/deeprlcourse/static/slides/lec-6.pdf)\n",
    "1. [CS294 112 Deep RL - Lecture 5 by Sergey Levin - Video](https://www.youtube.com/watch?v=Tol_jw5hWnI&t=0s&index=21&list=PLkFD6_40KJIxJMR-j5A1mkxK26gh_qg37)\n",
    "1. [Lilian's Blog](https://lilianweng.github.io/lil-log/2018/04/08/policy-gradient-algorithms.html#actor-critic)\n",
    "1. [RL-Adventure-2's Github repository by Dulat Yerzat](https://github.com/higgsfield/RL-Adventure-2/blob/master/1.actor-critic.ipynb)\n",
    "1. [PyTorch's Github repository - Actor-Critic.py](https://github.com/pytorch/examples/blob/master/reinforcement_learning/actor_critic.py)"
   ]
  },
  {
   "cell_type": "code",
   "execution_count": 1,
   "metadata": {},
   "outputs": [],
   "source": [
    "# Import all packages we want to use\n",
    "import numpy as np\n",
    "import gym\n",
    "\n",
    "import torch\n",
    "import torch.nn as nn\n",
    "import torch.nn.functional as F\n",
    "import torch.optim as optim\n",
    "from torch.distributions import Categorical\n",
    "\n",
    "import matplotlib\n",
    "import matplotlib.pyplot as plt\n",
    "%matplotlib inline"
   ]
  },
  {
   "cell_type": "markdown",
   "metadata": {},
   "source": [
    "## Enough information about ``CartPole-v1``\n",
    "\n",
    "A pole is attached by an un-actuated joint to a cart, which moves along a frictionless track. The system is controlled by applying a force of `+1` or `-1` to the cart. The pendulum starts upright, and the goal is to prevent it from falling over. A reward of `+1` is provided for every timestep that the pole remains upright. The episode ends when the pole is more than `15` degrees from vertical, or the cart moves more than `2.4` units from the center.\n",
    "\n",
    "### Summary\n",
    "\n",
    "| Property           \t| Default    \t| Note                                                                                      \t|\n",
    "|--------------------\t|------------\t|-------------------------------------------------------------------------------------------\t|\n",
    "| Max Episode Length \t| `500`      \t| Check out this [line](https://github.com/openai/gym/blob/master/gym/envs/__init__.py#L63) \t|\n",
    "| Action Space       \t| `+1`, `-1` \t| The system is controlled by applying a force of `+1` or `-1` to the cart                  \t|\n",
    "| Default reward     \t| `+1`       \t| A reward of `+1` is provided for every time-step that the pole remains upright            \t|\n",
    "\n",
    "### Sample output\n",
    "\n",
    "<center><img src='./CartPole.gif'></center>\n",
    "\n",
    "[Source](https://gym.openai.com/envs/CartPole-v1/)"
   ]
  },
  {
   "cell_type": "markdown",
   "metadata": {},
   "source": [
    "### Making Parallel Environments"
   ]
  },
  {
   "cell_type": "code",
   "execution_count": 2,
   "metadata": {},
   "outputs": [],
   "source": [
    "# Preparing the Cart Pole\n",
    "env = gym.make('CartPole-v1')\n",
    "env.seed(0)\n",
    "torch.manual_seed(0)\n",
    "gamma = 0.99"
   ]
  },
  {
   "cell_type": "markdown",
   "metadata": {},
   "source": [
    "## Two Design Choice!\n",
    "\n",
    "### Design Choice 1 - Making two separate Neural Network \n",
    "\n",
    "In the following class, we use two separate network one for *Policy*, called ``Actor``, and one for *Value-Function* called ``Critic``.\n",
    "\n",
    "*Just for reference purposes only! I don't use this network*"
   ]
  },
  {
   "cell_type": "code",
   "execution_count": 3,
   "metadata": {},
   "outputs": [],
   "source": [
    "class ActorCriticTwoNetworks(nn.Module):\n",
    "  def __init__(self):\n",
    "    super(ActorCriticTwoNetworks, self).__init__()\n",
    "    # Critic Network\n",
    "    self.critic = nn.Sequential(\n",
    "      nn.Linear(4, 128),\n",
    "      nn.ReLU(),\n",
    "      nn.Linear(128, 1))\n",
    "    \n",
    "    # Actor Network\n",
    "    self.actor = nn.Sequential(\n",
    "      nn.Linear(4, 128),\n",
    "      nn.ReLU(),\n",
    "      nn.Linear(128, 2),\n",
    "      nn.Softmax(dim=-1))\n",
    "    \n",
    "  def forward(self, x):\n",
    "    value = self.critic(x)\n",
    "    action_scores = self.actor(x)\n",
    "    dist = Categorical(action_scores)\n",
    "    return dist, value"
   ]
  },
  {
   "cell_type": "markdown",
   "metadata": {},
   "source": [
    "### Design Choice 2 - Making one shared Neural Network\n",
    "\n",
    "In the following class, we use one shared network to learn both *Policy* and *Value-Function* with two separate head. **One network to rule them all!**\n",
    "\n",
    "I will use this network for rest of this notebook!"
   ]
  },
  {
   "cell_type": "code",
   "execution_count": 4,
   "metadata": {},
   "outputs": [],
   "source": [
    "class ActorCritic(nn.Module):\n",
    "  def __init__(self):\n",
    "    super(ActorCritic, self).__init__()\n",
    "    self.layer1 = nn.Linear(4, 128)\n",
    "    self.policy_head = nn.Linear(128, 2)\n",
    "    self.value_head = nn.Linear(128, 1)\n",
    "    \n",
    "    self.saved_actions = []\n",
    "    self.rewards = []\n",
    "    \n",
    "  def forward(self, x):\n",
    "    x = F.relu(self.layer1(x))\n",
    "    action_scores = self.policy_head(x)\n",
    "    state_value = self.value_head(x)\n",
    "    \n",
    "    return F.softmax(action_scores, dim=-1), state_value"
   ]
  },
  {
   "cell_type": "code",
   "execution_count": 5,
   "metadata": {},
   "outputs": [],
   "source": [
    "# Create an instance of our model. \n",
    "# We are using CPU only mode, for CUDA mode, call .cuda() after  ActorCritic()\n",
    "model = ActorCritic()\n",
    "optimizer = optim.Adam(model.parameters(), lr=3e-2)\n",
    "# Retriving a value for epsilon using numpy's built-ins\n",
    "eps = np.finfo(np.float32).eps.item()"
   ]
  },
  {
   "cell_type": "code",
   "execution_count": 6,
   "metadata": {},
   "outputs": [],
   "source": [
    "from collections import namedtuple\n",
    "# A Container to save both log_probs and value after each interaction with the environment.\n",
    "SavedAction = namedtuple('SavedAction', ['log_prob', 'value'])"
   ]
  },
  {
   "cell_type": "code",
   "execution_count": 7,
   "metadata": {},
   "outputs": [],
   "source": [
    "def select_action(state):\n",
    "  # Convert current state to float tensor\n",
    "  state = torch.from_numpy(state).float()\n",
    "  # Run our model and get action probs and state value\n",
    "  probs, state_value = model(state)\n",
    "  # Using Categorical helper for sampling and log_probs\n",
    "  m = Categorical(probs)\n",
    "  selected_action = m.sample()\n",
    "  # storing some data for backpropagation\n",
    "  model.saved_actions.append(SavedAction(m.log_prob(selected_action), state_value))\n",
    "  # converting tensor to python scalar and returning it \n",
    "  return selected_action.item()"
   ]
  },
  {
   "cell_type": "code",
   "execution_count": 8,
   "metadata": {},
   "outputs": [],
   "source": [
    "def model_optimization_step():\n",
    "  R = 0\n",
    "  saved_actions = model.saved_actions\n",
    "  policy_losses = []\n",
    "  value_losses = []\n",
    "  rewards = []\n",
    "  \n",
    "  # Discounted Reward Calculation\n",
    "  for r in model.rewards[::-1]:\n",
    "      R = r + gamma * R\n",
    "      rewards.insert(0, R)\n",
    "  # Converting rewards to Tensor\n",
    "  rewards = torch.tensor(rewards)\n",
    "  # Normalizing rewards to zero mean and unit variance \n",
    "  rewards = (rewards - rewards.mean()) / (rewards.std() + eps)\n",
    "  \n",
    "  # Going through actions/rewards to calculate losses\n",
    "  # We are doing Batch mode Actor-Critic\n",
    "  for (log_prob, value), r in zip(saved_actions, rewards):\n",
    "      # calculating Advantage \n",
    "      advantage = r - value.item()\n",
    "      # Policy loss; A*ln(𝜋(𝑎|𝑠))\n",
    "      policy_losses.append(-log_prob * advantage)\n",
    "      # Value-Function loss; || Value - discountedReward ||\n",
    "      value_losses.append(F.smooth_l1_loss(value, torch.tensor([r])))\n",
    "  \n",
    "  optimizer.zero_grad()\n",
    "  # Total loss is sum of two losses; policy loss and value-function loss\n",
    "  loss = torch.stack(policy_losses).sum() + torch.stack(value_losses).sum()\n",
    "  # Call backward and optimization step on entire batch (entire data from one episode)\n",
    "  loss.backward()\n",
    "  optimizer.step()\n",
    "  \n",
    "  # Preparing model for next episode; Removing data current episode\n",
    "  del model.rewards[:]\n",
    "  del model.saved_actions[:]"
   ]
  },
  {
   "cell_type": "code",
   "execution_count": 9,
   "metadata": {},
   "outputs": [],
   "source": [
    "def train(num_episodes):\n",
    "  # Length of each episode\n",
    "  ep_history = []\n",
    "  \n",
    "  for current_episode in range(num_episodes):\n",
    "    # Reseting the Environment\n",
    "    state = env.reset()\n",
    "    \n",
    "    # Gathering data, with max step of 500\n",
    "    for t in range(500):\n",
    "      action = select_action(state)\n",
    "      state, reward, done, _ = env.step(action)\n",
    "      model.rewards.append(reward)\n",
    "      if done:\n",
    "        break\n",
    "    \n",
    "    ep_history.append(t)\n",
    "    \n",
    "    # Optimize our policy after gathering a full episode\n",
    "    model_optimization_step()\n",
    "    \n",
    "    # Logging\n",
    "    if (current_episode+1) % 50 == 0:\n",
    "      print('Episode {}\\tLast Epsiode length: {:5d}\\t'.format(current_episode, t))\n",
    "    \n",
    "  return ep_history"
   ]
  },
  {
   "cell_type": "code",
   "execution_count": 10,
   "metadata": {},
   "outputs": [
    {
     "name": "stdout",
     "output_type": "stream",
     "text": [
      "Episode 49\tLast Epsiode length:     7\t\n",
      "Episode 99\tLast Epsiode length:     8\t\n",
      "Episode 149\tLast Epsiode length:     8\t\n",
      "Episode 199\tLast Epsiode length:     8\t\n",
      "Episode 249\tLast Epsiode length:     8\t\n",
      "Episode 299\tLast Epsiode length:     8\t\n",
      "Episode 349\tLast Epsiode length:    10\t\n",
      "Episode 399\tLast Epsiode length:     9\t\n",
      "Episode 449\tLast Epsiode length:    10\t\n",
      "Episode 499\tLast Epsiode length:     9\t\n",
      "Episode 549\tLast Epsiode length:     9\t\n",
      "Episode 599\tLast Epsiode length:     9\t\n",
      "Episode 649\tLast Epsiode length:     8\t\n",
      "Episode 699\tLast Epsiode length:    11\t\n",
      "Episode 749\tLast Epsiode length:    16\t\n",
      "Episode 799\tLast Epsiode length:   101\t\n",
      "Episode 849\tLast Epsiode length:   164\t\n",
      "Episode 899\tLast Epsiode length:   150\t\n",
      "Episode 949\tLast Epsiode length:   173\t\n",
      "Episode 999\tLast Epsiode length:   176\t\n"
     ]
    }
   ],
   "source": [
    "episodes_to_train = 1000\n",
    "ep_history = train(episodes_to_train)"
   ]
  },
  {
   "cell_type": "code",
   "execution_count": 11,
   "metadata": {},
   "outputs": [
    {
     "data": {
      "image/png": "[encoded data removed]",
      "text/plain": [
       "<Figure size 1080x720 with 1 Axes>"
      ]
     },
     "metadata": {
      "needs_background": "light"
     },
     "output_type": "display_data"
    }
   ],
   "source": [
    "# Making plots larger!\n",
    "matplotlib.rcParams['figure.figsize'] = [15, 10]\n",
    "\n",
    "# X Axis of the plots\n",
    "xx = range(episodes_to_train)\n",
    "\n",
    "plt.plot(xx, ep_history, '.-')\n",
    "plt.title('Episode Length')\n",
    "plt.ylabel('Length of each Episode')\n",
    "\n",
    "plt.show()"
   ]
  },
  {
   "cell_type": "code",
   "execution_count": null,
   "metadata": {},
   "outputs": [],
   "source": []
  },
  {
   "cell_type": "markdown",
   "metadata": {},
   "source": [
    "## Notes\n",
    "\n",
    "1. It seems Vanilla Policy gradient is achieving better performance after 350 episode.\n",
    "\n",
    "### Useful Tools\n",
    "\n",
    "1. [Detexify](http://detexify.kirelabs.org/symbols.html) is an awesome tool that helps me to find $\\LaTeX$ symbols\n",
    "1. [Makrdown Table Generator](https://www.tablesgenerator.com/markdown_tables)"
   ]
  }
 ],
 "metadata": {
  "kernelspec": {
   "display_name": "Python 3",
   "language": "python",
   "name": "python3"
  },
  "language_info": {
   "codemirror_mode": {
    "name": "ipython",
    "version": 3
   },
   "file_extension": ".py",
   "mimetype": "text/x-python",
   "name": "python",
   "nbconvert_exporter": "python",
   "pygments_lexer": "ipython3",
   "version": "3.6.7"
  }
 },
 "nbformat": 4,
 "nbformat_minor": 2
}
