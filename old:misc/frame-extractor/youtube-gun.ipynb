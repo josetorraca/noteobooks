{
 "cells": [
  {
   "cell_type": "code",
   "execution_count": null,
   "metadata": {
    "collapsed": true
   },
   "outputs": [],
   "source": [
    "import argparse\n",
    "import youtube_dl\n",
    "import ffmpy\n",
    "import os\n",
    "import numpy as np"
   ]
  },
  {
   "cell_type": "code",
   "execution_count": null,
   "metadata": {
    "collapsed": true
   },
   "outputs": [],
   "source": [
    "# extract frames form url at given time and saves it into output_file\n",
    "def save_frame(url, time, output_file):\n",
    "    ff = ffmpy.FFmpeg(\n",
    "        inputs={url: '-ss ' + str(time) + ' -t 1'},\n",
    "        outputs={output_file: '-f mjpeg'})\n",
    "    ff.run()"
   ]
  },
  {
   "cell_type": "code",
   "execution_count": null,
   "metadata": {
    "collapsed": true
   },
   "outputs": [],
   "source": [
    "# search youtube with youtube-dl and extracts frames from each search results respects to its parameters\n",
    "def search_and_extract(query, name, video_per_query, frames_per_video):\n",
    "    print('Processing links for: {}'.format(name))\n",
    "    ydl = youtube_dl.YoutubeDL({'outtmpl': '%(id)s%(ext)s'})\n",
    "    with ydl:\n",
    "        search_results = ydl.extract_info('ytsearch' + str(video_per_query) + ':' + str(query), download=False)\n",
    "\n",
    "    if not os.path.exists(name):\n",
    "        os.makedirs(name)\n",
    "\n",
    "    for idx, sresult in enumerate(search_results['entries']):\n",
    "        video_link = sresult['formats'][-1]['url']\n",
    "        duration = sresult['duration']\n",
    "        \n",
    "        times = np.random.choice(duration - 1, frames_per_video, replace=False)\n",
    "        for t in times:\n",
    "            file_name = os.path.join(name, name + '-' + str(idx) + '-frame-' + str(t) + '.jpg')\n",
    "            save_frame(video_link, t, file_name)"
   ]
  },
  {
   "cell_type": "code",
   "execution_count": null,
   "metadata": {},
   "outputs": [],
   "source": [
    "search_and_extract(query='gta v', name='gta', video_per_query=2, frames_per_video=3)"
   ]
  }
 ],
 "metadata": {
  "kernelspec": {
   "display_name": "Python 3",
   "language": "python",
   "name": "python3"
  },
  "language_info": {
   "codemirror_mode": {
    "name": "ipython",
    "version": 3
   },
   "file_extension": ".py",
   "mimetype": "text/x-python",
   "name": "python",
   "nbconvert_exporter": "python",
   "pygments_lexer": "ipython3",
   "version": "3.6.1"
  }
 },
 "nbformat": 4,
 "nbformat_minor": 2
}
